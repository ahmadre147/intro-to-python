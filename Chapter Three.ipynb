{
 "cells": [
  {
   "cell_type": "markdown",
   "id": "4098d996-ca00-40d9-9730-218b632627bc",
   "metadata": {},
   "source": [
    "### Reading and Writing Files"
   ]
  },
  {
   "cell_type": "markdown",
   "id": "7055cd93-b52c-4cec-97e8-4ee6fed33896",
   "metadata": {},
   "source": [
    "`open()` returns a file object, and is most commonly used with two positional arguments and one keyword argument: `open(filename, mode, encoding=None)`"
   ]
  },
  {
   "cell_type": "code",
   "execution_count": null,
   "id": "67e82082-7a6f-4015-a4b9-3934c8964df4",
   "metadata": {},
   "outputs": [],
   "source": [
    "f = open('workfile', 'w', encoding=\"utf-8\")"
   ]
  },
  {
   "cell_type": "markdown",
   "id": "ddcaefbd-8699-4cf9-bed5-694bf533f07a",
   "metadata": {},
   "source": [
    "The first argument is a string containing the filename. The second argument is another string containing a few characters describing the way in which the file will be used. mode can be 'r' when the file will only be read, 'w' for only writing (an existing file with the same name will be erased), and 'a' opens the file for appending; any data written to the file is automatically added to the end. 'r+' opens the file for both reading and writing. The mode argument is optional; 'r' will be assumed if it’s omitted."
   ]
  },
  {
   "cell_type": "code",
   "execution_count": null,
   "id": "99e59a68-1d8c-4b32-a5cd-6743bedf8ae2",
   "metadata": {},
   "outputs": [],
   "source": [
    "f.close()"
   ]
  },
  {
   "cell_type": "code",
   "execution_count": null,
   "id": "75e8682c-7e2a-4019-b46d-9f51999e48ba",
   "metadata": {},
   "outputs": [],
   "source": [
    "with open('workfile', encoding=\"utf-8\") as f:\n",
    "    read_data = f.read()"
   ]
  },
  {
   "cell_type": "markdown",
   "id": "ee0cdd89-1581-45f0-b994-d8651efc196e",
   "metadata": {},
   "source": [
    "Calling `f.write()` without using the `with` keyword or calling `f.close()` might result in the arguments of f.write() not being completely written to the disk, even if the program exits successfully."
   ]
  },
  {
   "cell_type": "code",
   "execution_count": null,
   "id": "f37a5a10-a3e1-40b6-8350-d917925372ee",
   "metadata": {},
   "outputs": [],
   "source": [
    "f = open('workfile', 'r')"
   ]
  },
  {
   "cell_type": "code",
   "execution_count": null,
   "id": "b9d9cbe5-5020-4f53-a6f6-6ab8b06628f7",
   "metadata": {},
   "outputs": [],
   "source": [
    "f.read() # This is the entire file"
   ]
  },
  {
   "cell_type": "code",
   "execution_count": null,
   "id": "7390783f-01d8-4c47-ba04-ec2c3c703d8d",
   "metadata": {},
   "outputs": [],
   "source": [
    "f.readline() # This is the first line of the file."
   ]
  },
  {
   "cell_type": "code",
   "execution_count": null,
   "id": "d06c9aaa-ccb9-43d0-944f-68bb57c93f15",
   "metadata": {},
   "outputs": [],
   "source": [
    "f.readline() # Second line of the file."
   ]
  },
  {
   "cell_type": "code",
   "execution_count": null,
   "id": "f3bd33ee-3841-43bc-8a72-3da91eefa360",
   "metadata": {},
   "outputs": [],
   "source": [
    "for line in f:\n",
    "    print(line, end='')"
   ]
  },
  {
   "cell_type": "markdown",
   "id": "cab8eac1-bc35-4d92-ac7b-37f52ebc5e84",
   "metadata": {},
   "source": [
    "`f.write(string)` writes the contents of string to the file, returning the number of characters written."
   ]
  },
  {
   "cell_type": "code",
   "execution_count": null,
   "id": "6effc154-501c-4861-a085-260148a71ef8",
   "metadata": {},
   "outputs": [],
   "source": [
    "f.write('This is a test\\n')"
   ]
  },
  {
   "cell_type": "markdown",
   "id": "239449fc-8b09-4251-b4db-00ddc7c750bf",
   "metadata": {},
   "source": [
    "To change the file object’s position, use `f.seek(offset, whence)`. The position is computed from adding offset to a reference point; the reference point is selected by the whence argument. A whence value of 0 measures from the beginning of the file, 1 uses the current file position, and 2 uses the end of the file as the reference point. whence can be omitted and defaults to 0, using the beginning of the file as the reference point."
   ]
  },
  {
   "cell_type": "code",
   "execution_count": null,
   "id": "ab176845-965b-490b-9066-59daadd93c90",
   "metadata": {},
   "outputs": [],
   "source": [
    "f = open('workfile', 'rb+')\n",
    "f.write(b'0123456789abcdef')\n",
    "\n",
    "f.seek(5)      # Go to the 6th byte in the file\n",
    "\n",
    "f.read(1)\n",
    "\n",
    "f.seek(-3, 2)  # Go to the 3rd byte before the end\n",
    "\n",
    "f.read(1)"
   ]
  },
  {
   "cell_type": "markdown",
   "id": "a7c2bf98-2e38-4d31-83ce-346390121f88",
   "metadata": {},
   "source": [
    "#### JSON"
   ]
  },
  {
   "cell_type": "code",
   "execution_count": null,
   "id": "48fc2920-2dca-4e7e-8797-b9b97b80d07f",
   "metadata": {},
   "outputs": [],
   "source": [
    "import json\n",
    "x = [1, 'simple', 'list']\n",
    "json.dumps(x)"
   ]
  },
  {
   "cell_type": "markdown",
   "id": "8f318a7a-c379-4e31-b98e-7d773cac4ea1",
   "metadata": {},
   "source": [
    "Another variant of the `dumps()` function, called `dump()`, simply serializes the object to a text file. So if f is a text file object opened for writing, we can do this:"
   ]
  },
  {
   "cell_type": "code",
   "execution_count": null,
   "id": "d54275bc-6c50-4ede-b742-bc121e8d808f",
   "metadata": {},
   "outputs": [],
   "source": [
    "json.dump(x, f)"
   ]
  },
  {
   "cell_type": "code",
   "execution_count": null,
   "id": "2ea0b7d8-ed2c-4479-b436-b0e831430ce5",
   "metadata": {},
   "outputs": [],
   "source": [
    "x = json.load(f)"
   ]
  },
  {
   "cell_type": "markdown",
   "id": "61244ac1-be2e-4e6d-88a3-1ea20093ec13",
   "metadata": {},
   "source": [
    "JSON files must be encoded in UTF-8. Use encoding=\"utf-8\" when opening JSON file as a text file for both of reading and writing."
   ]
  },
  {
   "cell_type": "markdown",
   "id": "11cb8145-705c-46d2-ae4e-490c2b72fbbe",
   "metadata": {},
   "source": [
    "### Classes"
   ]
  },
  {
   "cell_type": "markdown",
   "id": "e08dbbf9-afd6-41cf-a37e-232a61da9c9e",
   "metadata": {},
   "source": [
    "Classes provide a means of bundling data and functionality together. Creating a new class creates a new type of object, allowing new instances of that type to be made. Each class instance can have attributes attached to it for maintaining its state. Class instances can also have methods (defined by its class) for modifying its state."
   ]
  },
  {
   "cell_type": "markdown",
   "id": "a12b4865-877b-483b-b49d-7ecc5f2f3bbd",
   "metadata": {},
   "source": [
    "Class objects support two kinds of operations: `attribute references` and `instantiation`."
   ]
  },
  {
   "cell_type": "code",
   "execution_count": null,
   "id": "390c7b6e-a5a3-4a39-b901-2795f348a265",
   "metadata": {},
   "outputs": [],
   "source": [
    "class MyClass:\n",
    "    \"\"\"A simple example class\"\"\"\n",
    "    i = 12345\n",
    "\n",
    "    def f(self):\n",
    "        return 'hello world'"
   ]
  },
  {
   "cell_type": "markdown",
   "id": "9b4bb82a-e9d8-4358-8d34-9b729f89194a",
   "metadata": {},
   "source": [
    "then `MyClass.i` and `MyClass.f` are valid attribute references, returning an integer and a function object, respectively. Class attributes can also be assigned to, so you can change the value of `MyClass.i` by assignment"
   ]
  },
  {
   "cell_type": "markdown",
   "id": "783bc500-4f03-4409-96bc-e1306140204e",
   "metadata": {},
   "source": [
    "Class instantiation uses function notation. Just pretend that the class object is a parameterless function that returns a new instance of the class. For example (assuming the above class):"
   ]
  },
  {
   "cell_type": "code",
   "execution_count": null,
   "id": "ce2a67b8-dc12-4fc1-91ac-e80fda6337d3",
   "metadata": {},
   "outputs": [],
   "source": [
    "x = MyClass()"
   ]
  },
  {
   "cell_type": "markdown",
   "id": "a23d9afe-5262-4934-8510-867f280f8ab5",
   "metadata": {},
   "source": [
    "The instantiation operation (“calling” a class object) creates an empty object. Many classes like to create objects with instances customized to a specific initial state. Therefore a class may define a special method named `__init__()`, like this:"
   ]
  },
  {
   "cell_type": "code",
   "execution_count": null,
   "id": "df4bc2e1-328a-4af1-89ca-01b20fd1675f",
   "metadata": {},
   "outputs": [],
   "source": [
    "def __init__(self):\n",
    "    self.data = []"
   ]
  },
  {
   "cell_type": "code",
   "execution_count": null,
   "id": "c3b253af-a093-4ac1-a0a1-31b251f5d1cc",
   "metadata": {},
   "outputs": [],
   "source": [
    "class Person:\n",
    "    def __init__(self, name, age):\n",
    "        self.name = name\n",
    "        self.age = age"
   ]
  },
  {
   "cell_type": "code",
   "execution_count": null,
   "id": "2fede9e9-a5c0-4671-ad33-28cbab18aafd",
   "metadata": {},
   "outputs": [],
   "source": [
    "x = Person('Ali', 21)"
   ]
  },
  {
   "cell_type": "markdown",
   "id": "f4cccee3-3ea9-42de-ac57-3275eea91c9e",
   "metadata": {
    "tags": []
   },
   "source": [
    "type(x)"
   ]
  },
  {
   "cell_type": "code",
   "execution_count": null,
   "id": "6b5fd586-dae9-41b3-b432-61fa902e98d0",
   "metadata": {},
   "outputs": [],
   "source": [
    "print(x.name)"
   ]
  },
  {
   "cell_type": "code",
   "execution_count": null,
   "id": "993d8b21-8626-4fb2-9a2c-78e0d824e6c9",
   "metadata": {},
   "outputs": [],
   "source": [
    "print(x.age)"
   ]
  },
  {
   "cell_type": "markdown",
   "id": "6f0d15b5-993b-469b-a57e-fd69836fbea2",
   "metadata": {},
   "source": [
    "#### Method Objects"
   ]
  },
  {
   "cell_type": "markdown",
   "id": "e449f367-0628-4510-8fc2-98cb133f3a6f",
   "metadata": {},
   "source": [
    "A method is a function that “belongs to” an object."
   ]
  },
  {
   "cell_type": "code",
   "execution_count": null,
   "id": "c4604de4-3f71-49f3-8569-0c40fa77a935",
   "metadata": {},
   "outputs": [],
   "source": [
    "x = MyClass()"
   ]
  },
  {
   "cell_type": "code",
   "execution_count": null,
   "id": "9161d673-ead1-43e8-9cc0-68b654816646",
   "metadata": {},
   "outputs": [],
   "source": [
    "x.f()"
   ]
  },
  {
   "cell_type": "markdown",
   "id": "3bfe29d2-fe60-4600-aab6-28c6085f4da7",
   "metadata": {},
   "source": [
    "#### Class and Instance Variables"
   ]
  },
  {
   "cell_type": "markdown",
   "id": "c2d57464-6dd5-4a90-a6bf-743ac92d3207",
   "metadata": {},
   "source": [
    "Generally speaking, instance variables are for data unique to each instance and class variables are for attributes and methods shared by all instances of the class:"
   ]
  },
  {
   "cell_type": "code",
   "execution_count": null,
   "id": "515d8be3-815b-4ebf-b61e-9aec6fe275e1",
   "metadata": {},
   "outputs": [],
   "source": [
    "class Dog:\n",
    "\n",
    "    kind = 'german'         # class variable shared by all instances\n",
    "\n",
    "    def __init__(self, name):\n",
    "        self.name = name    # instance variable unique to each instance"
   ]
  },
  {
   "cell_type": "code",
   "execution_count": null,
   "id": "34a69860-5e2d-42d0-a5f4-22f5bece7a56",
   "metadata": {},
   "outputs": [],
   "source": [
    "d = Dog('Jesse')"
   ]
  },
  {
   "cell_type": "code",
   "execution_count": null,
   "id": "edee3f2c-4f49-4fa4-864d-535ab5d3702a",
   "metadata": {},
   "outputs": [],
   "source": [
    "e = Dog('Barfi')"
   ]
  },
  {
   "cell_type": "code",
   "execution_count": null,
   "id": "2ad4af2f-c2e3-4e85-850b-293d543caff1",
   "metadata": {},
   "outputs": [],
   "source": [
    "print(d.kind)"
   ]
  },
  {
   "cell_type": "code",
   "execution_count": null,
   "id": "87d00dd0-1ebc-4c10-a54c-be6f30126ea2",
   "metadata": {},
   "outputs": [],
   "source": [
    "print(e.kind)"
   ]
  },
  {
   "cell_type": "code",
   "execution_count": null,
   "id": "01406d9a-ca7c-416f-af85-a3271a5aeb7b",
   "metadata": {},
   "outputs": [],
   "source": [
    "print(d.name)"
   ]
  },
  {
   "cell_type": "code",
   "execution_count": null,
   "id": "d8fc6629-9042-4d4d-a322-595f0f9fee91",
   "metadata": {},
   "outputs": [],
   "source": [
    "print(e.name)"
   ]
  },
  {
   "cell_type": "markdown",
   "id": "90805b48-28e7-4923-a970-7736e2f958fb",
   "metadata": {},
   "source": [
    "Shared data can have possibly surprising effects with involving mutable objects such as lists and dictionaries. For example, the tricks list in the following code should not be used as a class variable because just a single list would be shared by all Dog instances:"
   ]
  },
  {
   "cell_type": "code",
   "execution_count": null,
   "id": "e08eafe6-c92a-43a9-9d17-ab6f887f90e5",
   "metadata": {},
   "outputs": [],
   "source": [
    "class Dog:\n",
    "\n",
    "    tricks = []             # mistaken use of a class variable\n",
    "\n",
    "    def __init__(self, name):\n",
    "        self.name = name\n",
    "\n",
    "    def add_trick(self, trick):\n",
    "        self.tricks.append(trick)"
   ]
  },
  {
   "cell_type": "code",
   "execution_count": null,
   "id": "a8c8a4c1-93ec-450f-af4a-915b38fb28ff",
   "metadata": {},
   "outputs": [],
   "source": [
    "d = Dog('Jesse')"
   ]
  },
  {
   "cell_type": "code",
   "execution_count": null,
   "id": "1cdb016c-74d2-4922-8c60-902bb4186c69",
   "metadata": {},
   "outputs": [],
   "source": [
    "e = Dog('Barfi')"
   ]
  },
  {
   "cell_type": "code",
   "execution_count": null,
   "id": "f9c35073-2317-42ef-b432-db4e5550b6c6",
   "metadata": {},
   "outputs": [],
   "source": [
    "d.add_trick('roll over')"
   ]
  },
  {
   "cell_type": "code",
   "execution_count": null,
   "id": "9d0e8719-643d-48f2-ad29-8439ce922519",
   "metadata": {},
   "outputs": [],
   "source": [
    "e.add_trick('play dead')"
   ]
  },
  {
   "cell_type": "code",
   "execution_count": null,
   "id": "1bca0592-9472-4521-986e-ce96c4f97721",
   "metadata": {},
   "outputs": [],
   "source": [
    "print(d.tricks) # unexpectedly shared by all dogs"
   ]
  },
  {
   "cell_type": "markdown",
   "id": "1f14727a-a37f-4b3a-835e-1ee053a1b63a",
   "metadata": {},
   "source": [
    "Methods may call other methods by using method attributes of the `self` argument:"
   ]
  },
  {
   "cell_type": "code",
   "execution_count": null,
   "id": "2159eeaf-b0ce-42a7-9102-5f42abe58935",
   "metadata": {},
   "outputs": [],
   "source": [
    "class Bag:\n",
    "    def __init__(self):\n",
    "        self.data = []\n",
    "\n",
    "    def add(self, x):\n",
    "        self.data.append(x)\n",
    "\n",
    "    def addtwice(self, x):\n",
    "        self.add(x)\n",
    "        self.add(x)"
   ]
  },
  {
   "cell_type": "markdown",
   "id": "e2b3180c-94c0-4361-b6a3-7bda3b8df041",
   "metadata": {},
   "source": [
    "#### Inheritance"
   ]
  },
  {
   "cell_type": "markdown",
   "id": "378bce68-ec37-4a49-9e1a-83cc56b567cd",
   "metadata": {},
   "source": [
    "When a class derives from another class. The child class will inherit all the public and protected properties and methods from the parent class. In addition, it can have its own properties and methods."
   ]
  },
  {
   "cell_type": "code",
   "execution_count": null,
   "id": "1487f3f9-5d21-4a65-98f6-c1709077ac22",
   "metadata": {},
   "outputs": [],
   "source": [
    "class DerivedClassName(BaseClassName):\n",
    "    <statement-1>\n",
    "    .\n",
    "    .\n",
    "    .\n",
    "    <statement-N>\n",
    "    pass"
   ]
  },
  {
   "cell_type": "markdown",
   "id": "d8d9942c-1470-4955-87b6-ff640f81f262",
   "metadata": {},
   "source": [
    "Python supports a form of multiple inheritance as well. A class definition with multiple base classes looks like this:"
   ]
  },
  {
   "cell_type": "code",
   "execution_count": null,
   "id": "db94ae11-1805-4fab-9386-031a735e82a1",
   "metadata": {},
   "outputs": [],
   "source": [
    "class DerivedClassName(Base1, Base2, Base3):\n",
    "    <statement-1>\n",
    "    .\n",
    "    .\n",
    "    .\n",
    "    <statement-N>"
   ]
  },
  {
   "cell_type": "markdown",
   "id": "b5edfb7e-b8e9-40b1-8706-9c05f8c7c61a",
   "metadata": {},
   "source": [
    "For most purposes, in the simplest cases, you can think of the search for attributes inherited from a parent class as depth-first, left-to-right, not searching twice in the same class where there is an overlap in the hierarchy. Thus, if an attribute is not found in DerivedClassName, it is searched for in Base1, then (recursively) in the base classes of Base1, and if it was not found there, it was searched for in Base2, and so on."
   ]
  },
  {
   "cell_type": "markdown",
   "id": "ff31c709-0734-4c64-a8d2-8a657c51986a",
   "metadata": {},
   "source": [
    "#### Private Variables"
   ]
  },
  {
   "cell_type": "markdown",
   "id": "f97dedcf-e863-47a1-96ea-21508c67ba88",
   "metadata": {},
   "source": [
    "“Private” instance variables that cannot be accessed except from inside an object don’t exist in Python. However Any identifier of the form __spam (at least two leading underscores, at most one trailing underscore) is textually replaced with _classname__spam, where classname is the current class name with leading underscore(s) stripped. This mangling is done without regard to the syntactic position of the identifier, as long as it occurs within the definition of a class.\n"
   ]
  },
  {
   "cell_type": "code",
   "execution_count": null,
   "id": "dbcea832-22dd-4b07-97c7-7c842d423757",
   "metadata": {},
   "outputs": [],
   "source": [
    "class Mapping:\n",
    "    def __init__(self, iterable):\n",
    "        self.items_list = []\n",
    "        self.__update(iterable)\n",
    "\n",
    "    def update(self, iterable):\n",
    "        for item in iterable:\n",
    "            self.items_list.append(item)\n",
    "\n",
    "    __update = update   # private copy of original update() method\n",
    "\n",
    "class MappingSubclass(Mapping):\n",
    "\n",
    "    def update(self, keys, values):\n",
    "        # provides new signature for update()\n",
    "        # but does not break __init__()\n",
    "        for item in zip(keys, values):\n",
    "            self.items_list.append(item)"
   ]
  },
  {
   "cell_type": "markdown",
   "id": "31d0172b-5af5-43ae-b73e-28077b422ff0",
   "metadata": {},
   "source": [
    "#### Decorators"
   ]
  },
  {
   "cell_type": "markdown",
   "id": "5de6482d-80a3-4cde-a5e6-f51ebe9713ae",
   "metadata": {},
   "source": [
    "The decorators are used to modify the behaviour of function or class. In Decorators, functions are taken as the argument into another function and then called inside the wrapper function."
   ]
  },
  {
   "cell_type": "code",
   "execution_count": null,
   "id": "c26bfccd-7186-4a02-8547-4ba992cb2317",
   "metadata": {},
   "outputs": [],
   "source": [
    "@test_decorator\n",
    "def hello_decorator():\n",
    "    print(\"test\")"
   ]
  },
  {
   "cell_type": "markdown",
   "id": "8b50814e-bf92-41ab-be1e-45916c68d36f",
   "metadata": {},
   "source": [
    "Defining a decorator:"
   ]
  },
  {
   "cell_type": "code",
   "execution_count": null,
   "id": "a3e36e72-bf9f-469d-a323-f3116e5f3478",
   "metadata": {},
   "outputs": [],
   "source": [
    "# defining a decorator\n",
    "def hello_decorator(func):\n",
    " \n",
    "    # inner1 is a Wrapper function in\n",
    "    # which the argument is called\n",
    "     \n",
    "    # inner function can access the outer local\n",
    "    # functions like in this case \"func\"\n",
    "    def inner1():\n",
    "        print(\"Hello, this is before function execution\")\n",
    " \n",
    "        # calling the actual function now\n",
    "        # inside the wrapper function.\n",
    "        func()\n",
    " \n",
    "        print(\"This is after function execution\")\n",
    "         \n",
    "    return inner1\n",
    " \n",
    " \n",
    "# defining a function, to be called inside wrapper\n",
    "def function_to_be_used():\n",
    "    print(\"This is inside the function !!\")\n",
    " \n",
    " \n",
    "# passing 'function_to_be_used' inside the\n",
    "# decorator to control its behaviour\n",
    "function_to_be_used = hello_decorator(function_to_be_used)\n",
    " \n",
    " \n",
    "# calling the function\n",
    "function_to_be_used()"
   ]
  },
  {
   "cell_type": "code",
   "execution_count": null,
   "id": "57384f79-6f7a-4bc9-8ff2-45e25642b03c",
   "metadata": {},
   "outputs": [],
   "source": [
    "def hello_decorator(func):\n",
    "    def inner1(*args, **kwargs):\n",
    "         \n",
    "        print(\"before Execution\")\n",
    "         \n",
    "        # getting the returned value\n",
    "        returned_value = func(*args, **kwargs)\n",
    "        print(\"after Execution\")\n",
    "         \n",
    "        # returning the value to the original frame\n",
    "        return returned_value\n",
    "         \n",
    "    return inner1\n",
    " \n",
    " \n",
    "# adding decorator to the function\n",
    "@hello_decorator\n",
    "def sum_two_numbers(a, b):\n",
    "    print(\"Inside the function\")\n",
    "    return a + b\n",
    " \n",
    "a, b = 1, 2\n",
    " \n",
    "# getting the value through return of the function\n",
    "print(\"Sum =\", sum_two_numbers(a, b))"
   ]
  },
  {
   "cell_type": "markdown",
   "id": "d7d39621-6d81-41f8-b26f-5dc401c2904f",
   "metadata": {},
   "source": [
    "#### Odds and Ends"
   ]
  },
  {
   "cell_type": "markdown",
   "id": "baf12438-8e49-4f3f-8afc-12f76f0e112f",
   "metadata": {},
   "source": [
    "Sometimes it is useful to have a data type similar to the Pascal “record” or C “struct”, bundling together a few named data items. The idiomatic approach is to use `dataclasses` for this purpose:"
   ]
  },
  {
   "cell_type": "code",
   "execution_count": null,
   "id": "fbfe4dc6-2014-496d-a076-84205aad3ec2",
   "metadata": {},
   "outputs": [],
   "source": [
    "from dataclasses import dataclass\n",
    "\n",
    "@dataclass\n",
    "class Employee:\n",
    "    name: str\n",
    "    dept: str\n",
    "    salary: int"
   ]
  },
  {
   "cell_type": "code",
   "execution_count": null,
   "id": "0402cf7c-2a40-42b9-ab59-101a2ba3f98c",
   "metadata": {},
   "outputs": [],
   "source": [
    "john = Employee('john', 'computer lab', 1000)"
   ]
  },
  {
   "cell_type": "code",
   "execution_count": null,
   "id": "ec687f83-72ef-4f4e-bba7-cb50439fd11f",
   "metadata": {},
   "outputs": [],
   "source": [
    "print(john.dept)"
   ]
  },
  {
   "cell_type": "code",
   "execution_count": null,
   "id": "cd54de96-0cdc-479b-a4f6-05629d830adc",
   "metadata": {},
   "outputs": [],
   "source": [
    "print(john.salary)"
   ]
  },
  {
   "cell_type": "markdown",
   "id": "c34c4ab6-d0f8-49af-a035-f4b9be0b3f67",
   "metadata": {},
   "source": [
    "#### Static Methods and Variables"
   ]
  },
  {
   "cell_type": "markdown",
   "id": "7feda082-d4ba-4e4f-8794-e9be37d4977c",
   "metadata": {},
   "source": [
    "All objects share class or static variables. An instance or non-static variables are different for different objects. Python doesn't require static keyword:"
   ]
  },
  {
   "cell_type": "code",
   "execution_count": null,
   "id": "8c5a68df-8298-4f68-8035-0119e43363b3",
   "metadata": {},
   "outputs": [],
   "source": [
    "\n",
    "# Python program to show that the variables with a value\n",
    "# assigned in class declaration, are class variables\n",
    " \n",
    "# Class for Computer Science Student\n",
    "class CSStudent:\n",
    "    stream = 'cse'                  # Class Variable\n",
    "    def __init__(self,name,roll):\n",
    "        self.name = name            # Instance Variable\n",
    "        self.roll = roll            # Instance Variable\n"
   ]
  },
  {
   "cell_type": "code",
   "execution_count": null,
   "id": "c7e96de7-fcc6-4ca3-bff5-41a586b5a431",
   "metadata": {},
   "outputs": [],
   "source": [
    "# Objects of CSStudent class\n",
    "a = CSStudent('Geek', 1)\n",
    "b = CSStudent('Nerd', 2)"
   ]
  },
  {
   "cell_type": "code",
   "execution_count": null,
   "id": "1e268a83-9b94-4762-8c7e-432210d50bf1",
   "metadata": {},
   "outputs": [],
   "source": [
    "print(a.stream)  # prints \"cse\"\n",
    "print(b.stream)  # prints \"cse\"\n",
    "print(a.name)    # prints \"Geek\"\n",
    "print(b.name)    # prints \"Nerd\"\n",
    "print(a.roll)    # prints \"1\"\n",
    "print(b.roll)    # prints \"2\""
   ]
  },
  {
   "cell_type": "code",
   "execution_count": null,
   "id": "05c3bd21-f0de-4ff1-bc5d-b841df506ef9",
   "metadata": {},
   "outputs": [],
   "source": [
    "# Class variables can be accessed using class\n",
    "# name also\n",
    "print(CSStudent.stream) # prints \"cse\""
   ]
  },
  {
   "cell_type": "code",
   "execution_count": null,
   "id": "7fe837ff-e160-4ac6-9acd-4c1e5c54e8e4",
   "metadata": {},
   "outputs": [],
   "source": [
    "# Now if we change the stream for just a it won't be changed for b\n",
    "a.stream = 'ece'\n",
    "print(a.stream) # prints 'ece'\n",
    "print(b.stream) # prints 'cse'"
   ]
  },
  {
   "cell_type": "code",
   "execution_count": null,
   "id": "9c6c1326-b6a7-4264-bc3b-4bffe7f950fb",
   "metadata": {},
   "outputs": [],
   "source": [
    "# To change the stream for all instances of the class we can change it\n",
    "# directly from the class\n",
    "CSStudent.stream = 'mech'"
   ]
  },
  {
   "cell_type": "code",
   "execution_count": null,
   "id": "5be1419c-bb13-4c61-9c39-c2f49d4e7df6",
   "metadata": {},
   "outputs": [],
   "source": [
    "print(a.stream) # prints 'ece'\n",
    "print(b.stream) # prints 'mech'"
   ]
  },
  {
   "cell_type": "markdown",
   "id": "9bd0a74b-1b42-49b4-b1c0-dfc196c0b033",
   "metadata": {},
   "source": [
    "#### Class Method and Static Method"
   ]
  },
  {
   "cell_type": "markdown",
   "id": "fe0d6941-9b9a-472e-a20a-222d4e6498f8",
   "metadata": {},
   "source": [
    "The @classmethod decorator is a built-in function decorator that is an expression that gets evaluated after your function is defined. The result of that evaluation shadows your function definition. A class method receives the class as an implicit first argument, just like an instance method receives the instance"
   ]
  },
  {
   "cell_type": "code",
   "execution_count": null,
   "id": "fbc90f50-0e6d-4985-a276-4a1845034036",
   "metadata": {},
   "outputs": [],
   "source": [
    "class C(object):\n",
    "    @classmethod\n",
    "    def fun(cls, arg1, arg2, ...):\n"
   ]
  },
  {
   "cell_type": "markdown",
   "id": "888f3b76-80fe-42ab-ac7a-c2f094740561",
   "metadata": {},
   "source": [
    "A static method does not receive an implicit first argument. A static method is also a method that is bound to the class and not the object of the class. This method can’t access or modify the class state. It is present in a class because it makes sense for the method to be present in class."
   ]
  },
  {
   "cell_type": "code",
   "execution_count": null,
   "id": "97efe20d-09cd-4e3b-9af8-0d1d47a740b8",
   "metadata": {},
   "outputs": [],
   "source": [
    "class C(object):\n",
    "    @staticmethod\n",
    "    def fun(arg1, arg2, ...):\n"
   ]
  },
  {
   "cell_type": "code",
   "execution_count": null,
   "id": "0cb32b01-6c39-49f6-9d3a-30aff28a98ef",
   "metadata": {},
   "outputs": [],
   "source": [
    "from datetime import date\n",
    " \n",
    " \n",
    "class Person:\n",
    "    def __init__(self, name, age):\n",
    "        self.name = name\n",
    "        self.age = age\n",
    " \n",
    "    # a class method to create a Person object by birth year.\n",
    "    @classmethod\n",
    "    def fromBirthYear(cls, name, year):\n",
    "        return cls(name, date.today().year - year)\n",
    " \n",
    "    # a static method to check if a Person is adult or not.\n",
    "    @staticmethod\n",
    "    def isAdult(age):\n",
    "        return age > 18"
   ]
  },
  {
   "cell_type": "code",
   "execution_count": null,
   "id": "67a99f05-864e-4c0a-bca3-629e0567aaf5",
   "metadata": {},
   "outputs": [],
   "source": [
    "person1 = Person('mayank', 21)\n",
    "person2 = Person.fromBirthYear('mayank', 1996)"
   ]
  },
  {
   "cell_type": "code",
   "execution_count": null,
   "id": "26070dc8-57b0-4f1a-b98b-337580c6f615",
   "metadata": {},
   "outputs": [],
   "source": [
    "print(person1.age)\n",
    "print(person2.age)"
   ]
  },
  {
   "cell_type": "code",
   "execution_count": null,
   "id": "5fa238e4-716a-4b13-a811-ba0c6e41affd",
   "metadata": {},
   "outputs": [],
   "source": [
    "print(Person.isAdult(22))"
   ]
  },
  {
   "cell_type": "code",
   "execution_count": null,
   "id": "764fc667-383d-4ffe-939e-9a7300e314b3",
   "metadata": {},
   "outputs": [],
   "source": []
  }
 ],
 "metadata": {
  "kernelspec": {
   "display_name": "Python 3 (ipykernel)",
   "language": "python",
   "name": "python3"
  },
  "language_info": {
   "codemirror_mode": {
    "name": "ipython",
    "version": 3
   },
   "file_extension": ".py",
   "mimetype": "text/x-python",
   "name": "python",
   "nbconvert_exporter": "python",
   "pygments_lexer": "ipython3",
   "version": "3.10.2"
  }
 },
 "nbformat": 4,
 "nbformat_minor": 5
}
